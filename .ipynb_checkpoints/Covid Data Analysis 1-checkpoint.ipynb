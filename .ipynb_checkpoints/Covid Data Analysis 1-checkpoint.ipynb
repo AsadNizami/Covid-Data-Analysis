{
 "cells": [
  {
   "cell_type": "markdown",
   "metadata": {},
   "source": [
    "### Examining the covid cases on the basis of their geographical location in Indian Subcontinent"
   ]
  },
  {
   "cell_type": "markdown",
   "metadata": {},
   "source": [
    "### Importing the required dependencies"
   ]
  },
  {
   "cell_type": "code",
   "execution_count": 1,
   "metadata": {},
   "outputs": [],
   "source": [
    "import pandas as pd\n",
    "import matplotlib.pyplot as plt"
   ]
  },
  {
   "cell_type": "code",
   "execution_count": 2,
   "metadata": {},
   "outputs": [
    {
     "name": "stderr",
     "output_type": "stream",
     "text": [
      "C:\\Users\\anasn\\AppData\\Roaming\\Python\\Python38\\site-packages\\IPython\\core\\interactiveshell.py:3337: DtypeWarning: Columns (4,8) have mixed types.Specify dtype option on import or set low_memory=False.\n",
      "  if (await self.run_code(code, result,  async_=asy)):\n"
     ]
    },
    {
     "data": {
      "text/html": [
       "<div>\n",
       "<style scoped>\n",
       "    .dataframe tbody tr th:only-of-type {\n",
       "        vertical-align: middle;\n",
       "    }\n",
       "\n",
       "    .dataframe tbody tr th {\n",
       "        vertical-align: top;\n",
       "    }\n",
       "\n",
       "    .dataframe thead th {\n",
       "        text-align: right;\n",
       "    }\n",
       "</style>\n",
       "<table border=\"1\" class=\"dataframe\">\n",
       "  <thead>\n",
       "    <tr style=\"text-align: right;\">\n",
       "      <th></th>\n",
       "      <th>Serial Id</th>\n",
       "      <th>Day Id</th>\n",
       "      <th>Status Day Id</th>\n",
       "      <th>Date Announced</th>\n",
       "      <th>Age Bracket</th>\n",
       "      <th>Gender</th>\n",
       "      <th>Detected State</th>\n",
       "      <th>Current Status</th>\n",
       "      <th>Status Change Date</th>\n",
       "    </tr>\n",
       "  </thead>\n",
       "  <tbody>\n",
       "    <tr>\n",
       "      <th>0</th>\n",
       "      <td>1</td>\n",
       "      <td>0</td>\n",
       "      <td>0.0</td>\n",
       "      <td>30/01/2020</td>\n",
       "      <td>20</td>\n",
       "      <td>F</td>\n",
       "      <td>Kerala</td>\n",
       "      <td>Recovered</td>\n",
       "      <td>14/02/2020</td>\n",
       "    </tr>\n",
       "    <tr>\n",
       "      <th>1</th>\n",
       "      <td>2</td>\n",
       "      <td>0</td>\n",
       "      <td>0.0</td>\n",
       "      <td>02/02/2020</td>\n",
       "      <td>NaN</td>\n",
       "      <td>NaN</td>\n",
       "      <td>Kerala</td>\n",
       "      <td>Recovered</td>\n",
       "      <td>14/02/2020</td>\n",
       "    </tr>\n",
       "    <tr>\n",
       "      <th>2</th>\n",
       "      <td>3</td>\n",
       "      <td>0</td>\n",
       "      <td>0.0</td>\n",
       "      <td>03/02/2020</td>\n",
       "      <td>NaN</td>\n",
       "      <td>NaN</td>\n",
       "      <td>Kerala</td>\n",
       "      <td>Recovered</td>\n",
       "      <td>14/02/2020</td>\n",
       "    </tr>\n",
       "    <tr>\n",
       "      <th>3</th>\n",
       "      <td>4</td>\n",
       "      <td>1</td>\n",
       "      <td>14.0</td>\n",
       "      <td>02/03/2020</td>\n",
       "      <td>45</td>\n",
       "      <td>M</td>\n",
       "      <td>Delhi</td>\n",
       "      <td>Recovered</td>\n",
       "      <td>15/03/2020</td>\n",
       "    </tr>\n",
       "    <tr>\n",
       "      <th>4</th>\n",
       "      <td>5</td>\n",
       "      <td>1</td>\n",
       "      <td>1.0</td>\n",
       "      <td>02/03/2020</td>\n",
       "      <td>24</td>\n",
       "      <td>M</td>\n",
       "      <td>Telangana</td>\n",
       "      <td>Recovered</td>\n",
       "      <td>02/03/2020</td>\n",
       "    </tr>\n",
       "    <tr>\n",
       "      <th>5</th>\n",
       "      <td>6</td>\n",
       "      <td>2</td>\n",
       "      <td>2.0</td>\n",
       "      <td>03/03/2020</td>\n",
       "      <td>69</td>\n",
       "      <td>M</td>\n",
       "      <td>Rajasthan</td>\n",
       "      <td>Recovered</td>\n",
       "      <td>03/03/2020</td>\n",
       "    </tr>\n",
       "    <tr>\n",
       "      <th>6</th>\n",
       "      <td>7</td>\n",
       "      <td>3</td>\n",
       "      <td>28.0</td>\n",
       "      <td>04/03/2020</td>\n",
       "      <td>55</td>\n",
       "      <td>NaN</td>\n",
       "      <td>Haryana</td>\n",
       "      <td>Recovered</td>\n",
       "      <td>29/03/2020</td>\n",
       "    </tr>\n",
       "  </tbody>\n",
       "</table>\n",
       "</div>"
      ],
      "text/plain": [
       "   Serial Id  Day Id  Status Day Id Date Announced Age Bracket Gender  \\\n",
       "0          1       0            0.0     30/01/2020          20      F   \n",
       "1          2       0            0.0     02/02/2020         NaN    NaN   \n",
       "2          3       0            0.0     03/02/2020         NaN    NaN   \n",
       "3          4       1           14.0     02/03/2020          45      M   \n",
       "4          5       1            1.0     02/03/2020          24      M   \n",
       "5          6       2            2.0     03/03/2020          69      M   \n",
       "6          7       3           28.0     04/03/2020          55    NaN   \n",
       "\n",
       "  Detected State Current Status Status Change Date  \n",
       "0         Kerala      Recovered         14/02/2020  \n",
       "1         Kerala      Recovered         14/02/2020  \n",
       "2         Kerala      Recovered         14/02/2020  \n",
       "3          Delhi      Recovered         15/03/2020  \n",
       "4      Telangana      Recovered         02/03/2020  \n",
       "5      Rajasthan      Recovered         03/03/2020  \n",
       "6        Haryana      Recovered         29/03/2020  "
      ]
     },
     "execution_count": 2,
     "metadata": {},
     "output_type": "execute_result"
    }
   ],
   "source": [
    "def open_file():\n",
    "    df = pd.read_csv('Output/dataset_filtered.csv')\n",
    "    return df\n",
    "df = open_file()\n",
    "df.head(7)"
   ]
  },
  {
   "cell_type": "markdown",
   "metadata": {},
   "source": [
    "### List of states and union territories present in the dataset"
   ]
  },
  {
   "cell_type": "code",
   "execution_count": 3,
   "metadata": {},
   "outputs": [
    {
     "data": {
      "text/plain": [
       "array(['Kerala', 'Delhi', 'Telangana', 'Rajasthan', 'Haryana',\n",
       "       'Uttar Pradesh', 'Ladakh', 'Tamil Nadu', 'Jammu and Kashmir',\n",
       "       'Karnataka', 'Maharashtra', 'Punjab', 'Andhra Pradesh',\n",
       "       'Uttarakhand', 'Odisha', 'Puducherry', 'West Bengal', 'Chandigarh',\n",
       "       'Chhattisgarh', 'Gujarat', 'Himachal Pradesh', 'Madhya Pradesh',\n",
       "       'Bihar', 'Manipur', 'Mizoram', 'Goa',\n",
       "       'Andaman and Nicobar Islands', 'Jharkhand', 'Assam',\n",
       "       'Arunachal Pradesh', nan, 'Tripura', 'Meghalaya',\n",
       "       'Dadra and Nagar Haveli and Daman and Diu', 'State Unassigned',\n",
       "       'Sikkim', 'Nagaland', 'Lakshadweep'], dtype=object)"
      ]
     },
     "execution_count": 3,
     "metadata": {},
     "output_type": "execute_result"
    }
   ],
   "source": [
    "df['Detected State'].unique()"
   ]
  },
  {
   "cell_type": "markdown",
   "metadata": {},
   "source": [
    "### Division of India states into seven geographic regions:\n",
    "\n",
    "#### Classified on the basis of major landforms in the state\n",
    "[Learn more](https://www.cs.mcgill.ca/~rwest/wikispeedia/wpcd/wp/g/Geography_of_India.htm)\n"
   ]
  },
  {
   "cell_type": "code",
   "execution_count": 4,
   "metadata": {},
   "outputs": [],
   "source": [
    "MOUNTAIN = set([\n",
    "    'Jammu and Kashmir', 'Himachal Pradesh', 'Uttarakhand', 'Ladakh',\n",
    "    'Manipur', 'Mizoram', 'Arunachal Pradesh', 'Tripura',  'Meghalaya',\n",
    "    'Sikkim', 'Nagaland'\n",
    "])\n",
    "\n",
    "INDO_GANGETIC_PLAIN = set([\n",
    "    'Delhi', 'Haryana', 'Uttar Pradesh', 'Punjab', 'Bihar', 'Jharkhand',\n",
    "    'West Bengal', 'Chandigarh', 'Chhattisgarh', 'Assam', \n",
    "])\n",
    "\n",
    "THAR_DESERT = set([\n",
    "    'Rajasthan'\n",
    "])\n",
    "\n",
    "CENTRAL_HIGHLANDS = set([\n",
    "    'Telangana', 'Odisha', 'Maharashtra', 'Madhya Pradesh',\n",
    "])\n",
    "\n",
    "EAST_COAST = set([\n",
    "    'Tamil Nadu', 'Andhra Pradesh', 'Puducherry',\n",
    "])\n",
    "\n",
    "WEST_COAST = set([\n",
    "    'Kerala', 'Karnataka', 'Gujarat', 'Goa',\n",
    "])\n",
    "\n",
    "BORDERING_ISLANDS = set([\n",
    "    'Andaman and Nicobar Islands', \n",
    "    'Dadra and Nagar Haveli and Daman and Diu',\n",
    "    'Lakshadweep'\n",
    "])"
   ]
  },
  {
   "cell_type": "markdown",
   "metadata": {},
   "source": [
    "### Total Population Projected for 2018 by Aadhar - Unique Identification Authority of India on 28th February 2019 (3). \n",
    "[Learn More](https://www.populationu.com/india-population)"
   ]
  },
  {
   "cell_type": "code",
   "execution_count": 5,
   "metadata": {},
   "outputs": [],
   "source": [
    "POPULATION = {\n",
    "    'Jammu and Kashmir': 14046258, 'Himachal Pradesh': 7316708,\n",
    "    'Uttarakhand': 11090425 , 'Ladakh': 307204,\n",
    "    'Manipur': 3008546, 'Mizoram': 1205974,\n",
    "    'Arunachal Pradesh': 1528296, 'Tripura': 4057847,\n",
    "    'Meghalaya': 3276323, 'Sikkim': 671720,\n",
    "    'Nagaland': 2189297, 'Delhi': 18802494,\n",
    "    'Haryana': 27388008, 'Uttar Pradesh': 228959599,\n",
    "    'Punjab': 29611935, 'Bihar': 119461013,\n",
    "    'Jharkhand': 37329128, 'West Bengal': 97694960,\n",
    "    'Chandigarh': 1182104, 'Chhattisgarh': 28566990,\n",
    "    'Assam': 34586234, 'Rajasthan': 78230816,\n",
    "    'Telangana': 38472769, 'Odisha': 45429399,\n",
    "    'Maharashtra': 120837347, 'Madhya Pradesh': 82342793,\n",
    "    'Tamil Nadu': 76481545, 'Andhra Pradesh': 1528296,\n",
    "    'Puducherry': 1397707,'Kerala': 35330888,\n",
    "    'Karnataka': 66165886, 'Gujarat': 63907200,\n",
    "    'Goa': 1542750, 'Andaman and Nicobar Islands': 426251, \n",
    "    'Dadra and Nagar Haveli and Daman and Diu': 384954,\n",
    "    'Lakshadweep': 72210\n",
    "}"
   ]
  },
  {
   "cell_type": "markdown",
   "metadata": {},
   "source": [
    "### Total Number of covid cases in each of these states"
   ]
  },
  {
   "cell_type": "code",
   "execution_count": 6,
   "metadata": {},
   "outputs": [
    {
     "name": "stderr",
     "output_type": "stream",
     "text": [
      "C:\\Users\\anasn\\AppData\\Roaming\\Python\\Python38\\site-packages\\IPython\\core\\interactiveshell.py:3417: DtypeWarning: Columns (4,8) have mixed types.Specify dtype option on import or set low_memory=False.\n",
      "  exec(code_obj, self.user_global_ns, self.user_ns)\n"
     ]
    },
    {
     "data": {
      "text/plain": [
       "{'Jammu and Kashmir': 15637,\n",
       " 'Himachal Pradesh': 9738,\n",
       " 'Uttarakhand': 12041,\n",
       " 'Ladakh': 1431,\n",
       " 'Manipur': 4964,\n",
       " 'Mizoram': 2535,\n",
       " 'Arunachal Pradesh': 6895,\n",
       " 'Tripura': 4737,\n",
       " 'Meghalaya': 4189,\n",
       " 'Sikkim': 1316,\n",
       " 'Nagaland': 3192,\n",
       " 'Delhi': 4166,\n",
       " 'Haryana': 18963,\n",
       " 'Uttar Pradesh': 62696,\n",
       " 'Punjab': 20010,\n",
       " 'Bihar': 37186,\n",
       " 'Jharkhand': 15852,\n",
       " 'West Bengal': 21933,\n",
       " 'Chandigarh': 9460,\n",
       " 'Chhattisgarh': 22497,\n",
       " 'Assam': 6732,\n",
       " 'Rajasthan': 29586,\n",
       " 'Telangana': 13808,\n",
       " 'Odisha': 23774,\n",
       " 'Maharashtra': 45321,\n",
       " 'Madhya Pradesh': 41348,\n",
       " 'Tamil Nadu': 57339,\n",
       " 'Andhra Pradesh': 14788,\n",
       " 'Puducherry': 3092,\n",
       " 'Kerala': 24931,\n",
       " 'Karnataka': 127901,\n",
       " 'Gujarat': 29517,\n",
       " 'Goa': 1847,\n",
       " 'Andaman and Nicobar Islands': 889,\n",
       " 'Dadra and Nagar Haveli and Daman and Diu': 1666,\n",
       " 'Lakshadweep': 341}"
      ]
     },
     "execution_count": 6,
     "metadata": {},
     "output_type": "execute_result"
    }
   ],
   "source": [
    "def total_covid():\n",
    "    temp = dict()\n",
    "    df = open_file()\n",
    "    for i in POPULATION:\n",
    "        temp[i] = df[(df['Detected State'] == i)].shape[0]\n",
    "    return temp\n",
    "\n",
    "TOTAL_COVID = total_covid()\n",
    "TOTAL_COVID"
   ]
  },
  {
   "cell_type": "markdown",
   "metadata": {},
   "source": [
    "### Ratio of total number of cases and total population times 1000 for each state"
   ]
  },
  {
   "cell_type": "code",
   "execution_count": 7,
   "metadata": {},
   "outputs": [
    {
     "name": "stdout",
     "output_type": "stream",
     "text": [
      "{'Jammu and Kashmir': 1.1132502336209402, 'Himachal Pradesh': 1.3309264221013055, 'Uttarakhand': 1.085711323055699, 'Ladakh': 4.658142472103227, 'Manipur': 1.6499664622046664, 'Mizoram': 2.102035367263307, 'Arunachal Pradesh': 4.511560587739548, 'Tripura': 1.1673678184515088, 'Meghalaya': 1.2785674672491083, 'Sikkim': 1.9591496456857023, 'Nagaland': 1.458002271962187, 'Delhi': 0.2215663517829071, 'Haryana': 0.6923833233873745, 'Uttar Pradesh': 0.27382996945238364, 'Punjab': 0.6757410483306816, 'Bihar': 0.3112814722239129, 'Jharkhand': 0.4246549772070754, 'West Bengal': 0.2245049284016289, 'Chandigarh': 8.002679967244845, 'Chhattisgarh': 0.7875173408188961, 'Assam': 0.19464391526409033, 'Rajasthan': 0.3781885644654403, 'Telangana': 0.3589032024183131, 'Odisha': 0.5233175107599376, 'Maharashtra': 0.37505788669789314, 'Madhya Pradesh': 0.5021447353625714, 'Tamil Nadu': 0.7497102732430418, 'Andhra Pradesh': 9.67613603647461, 'Puducherry': 2.2121946874416456, 'Kerala': 0.7056431754559919, 'Karnataka': 1.9330354013547102, 'Gujarat': 0.4618728406188974, 'Goa': 1.1972127694052828, 'Andaman and Nicobar Islands': 2.085625605570427, 'Dadra and Nagar Haveli and Daman and Diu': 4.327789813847889, 'Lakshadweep': 4.72233762636754}\n"
     ]
    }
   ],
   "source": [
    "def ratio():\n",
    "    '''\n",
    "    Total Cases / Total Population * 1000 for each state \n",
    "    '''\n",
    "    temp = dict()\n",
    "    for i in POPULATION:\n",
    "        temp[i] = TOTAL_COVID[i]/POPULATION[i] * 1000\n",
    "        \n",
    "    return temp\n",
    "\n",
    "RATIO = ratio()\n",
    "print(RATIO)"
   ]
  },
  {
   "cell_type": "markdown",
   "metadata": {},
   "source": [
    "### Plot of the above ratio "
   ]
  },
  {
   "cell_type": "code",
   "execution_count": 8,
   "metadata": {},
   "outputs": [
    {
     "data": {
      "image/png": "[encoded data removed]",
      "text/plain": [
       "<Figure size 1440x720 with 1 Axes>"
      ]
     },
     "metadata": {
      "needs_background": "light"
     },
     "output_type": "display_data"
    },
    {
     "data": {
      "image/png": "[encoded data removed]",
      "text/plain": [
       "<Figure size 1440x720 with 1 Axes>"
      ]
     },
     "metadata": {
      "needs_background": "light"
     },
     "output_type": "display_data"
    },
    {
     "data": {
      "image/png": "[encoded data removed]",
      "text/plain": [
       "<Figure size 1440x720 with 1 Axes>"
      ]
     },
     "metadata": {
      "needs_background": "light"
     },
     "output_type": "display_data"
    }
   ],
   "source": [
    "def plot_relative_cases():\n",
    "\n",
    "    length = len(POPULATION)\n",
    "    \n",
    "    plt.figure(figsize=(20, 10))\n",
    "    states1 = list(RATIO.keys())[:length//3]\n",
    "    values1 = list(RATIO.values())[:length//3]\n",
    "    plt.bar(states1, values1)    \n",
    "    plt.xticks(rotation=30)\n",
    "    plt.show()\n",
    "    \n",
    "    plt.figure(figsize=(20, 10))\n",
    "    states1 = list(RATIO.keys())[length//3:length*2//3]\n",
    "    values1 = list(RATIO.values())[length//3:length*2//3]\n",
    "    plt.xticks(rotation=30)\n",
    "    plt.bar(states1, values1)            \n",
    "    plt.show()\n",
    "    \n",
    "    plt.figure(figsize=(20, 10))\n",
    "    states1 = list(RATIO.keys())[length*2//3:]\n",
    "    values1 = list(RATIO.values())[length*2//3:]\n",
    "    plt.bar(states1, values1)    \n",
    "    plt.xticks(rotation=30)\n",
    "    plt.show()\n",
    "\n",
    "plot_relative_cases()"
   ]
  },
  {
   "cell_type": "code",
   "execution_count": null,
   "metadata": {},
   "outputs": [],
   "source": []
  },
  {
   "cell_type": "markdown",
   "metadata": {},
   "source": [
    "### Total population for each landform"
   ]
  },
  {
   "cell_type": "code",
   "execution_count": 9,
   "metadata": {},
   "outputs": [],
   "source": [
    "def population_geography(geography):\n",
    "    '''Total population for the above geography'''\n",
    "    \n",
    "    return sum(POPULATION[location] for location in geography)\n",
    "\n",
    "\n",
    "GEOGRAPHY_POPULATION = {\n",
    "    'Mountain': population_geography(MOUNTAIN),\n",
    "    'Desert': population_geography(THAR_DESERT),\n",
    "    'Northern Plains': population_geography(INDO_GANGETIC_PLAIN),\n",
    "    'Central Highlands': population_geography(CENTRAL_HIGHLANDS),\n",
    "    'East Coast': population_geography(EAST_COAST),\n",
    "    'West Coast': population_geography(WEST_COAST),\n",
    "    'Islands': population_geography(BORDERING_ISLANDS)    \n",
    "}"
   ]
  },
  {
   "cell_type": "markdown",
   "metadata": {},
   "source": [
    "### Total number of cases for each landform"
   ]
  },
  {
   "cell_type": "code",
   "execution_count": 10,
   "metadata": {},
   "outputs": [],
   "source": [
    "def cases_geography(geography):\n",
    "    '''Total covid cases for the above geography'''\n",
    "    \n",
    "    return sum(TOTAL_COVID[location] for location in geography)\n",
    "\n",
    "GEOGRAPHY_CASES = {\n",
    "    'Mountain': cases_geography(MOUNTAIN),\n",
    "    'Desert': cases_geography(THAR_DESERT),\n",
    "    'Northern Plains': cases_geography(INDO_GANGETIC_PLAIN),\n",
    "    'Central Highlands': cases_geography(CENTRAL_HIGHLANDS),\n",
    "    'East Coast': cases_geography(EAST_COAST),\n",
    "    'West Coast': cases_geography(WEST_COAST),\n",
    "    'Islands': cases_geography(BORDERING_ISLANDS)\n",
    "}"
   ]
  },
  {
   "cell_type": "markdown",
   "metadata": {},
   "source": [
    "### Graph for number of cases / population for each landform"
   ]
  },
  {
   "cell_type": "code",
   "execution_count": 11,
   "metadata": {},
   "outputs": [
    {
     "data": {
      "image/png": "[encoded data removed]",
      "text/plain": [
       "<Figure size 1440x720 with 1 Axes>"
      ]
     },
     "metadata": {
      "needs_background": "light"
     },
     "output_type": "display_data"
    }
   ],
   "source": [
    "def plot_relative_case_geography():\n",
    "    \n",
    "    def ratio_geography():\n",
    "        temp = dict()\n",
    "        for i in GEOGRAPHY_POPULATION:\n",
    "            temp[i] = GEOGRAPHY_CASES[i]/GEOGRAPHY_POPULATION[i] * 1000\n",
    "        \n",
    "        return temp\n",
    "\n",
    "    RATIO_GEOGRAPHY = ratio_geography()\n",
    "    \n",
    "    plt.figure(figsize=(20, 10))\n",
    "    states1 = list(RATIO_GEOGRAPHY.keys())\n",
    "    values1 = list(RATIO_GEOGRAPHY.values())\n",
    "    plt.bar(states1, values1)    \n",
    "    plt.xticks(rotation=30)\n",
    "    plt.show()\n",
    "    \n",
    "plot_relative_case_geography()"
   ]
  }
 ],
 "metadata": {
  "kernelspec": {
   "display_name": "Python 3",
   "language": "python",
   "name": "python3"
  },
  "language_info": {
   "codemirror_mode": {
    "name": "ipython",
    "version": 3
   },
   "file_extension": ".py",
   "mimetype": "text/x-python",
   "name": "python",
   "nbconvert_exporter": "python",
   "pygments_lexer": "ipython3",
   "version": "3.8.2"
  }
 },
 "nbformat": 4,
 "nbformat_minor": 4
}
