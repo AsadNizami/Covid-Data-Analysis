{
 "cells": [
  {
   "cell_type": "markdown",
   "metadata": {},
   "source": [
    "## Covid Data Analysis\n"
   ]
  },
  {
   "cell_type": "markdown",
   "metadata": {},
   "source": [
    "###  Importing the required dependencies"
   ]
  },
  {
   "cell_type": "code",
   "execution_count": 1,
   "metadata": {},
   "outputs": [],
   "source": [
    "import os\n",
    "import pandas as pd\n",
    "from datetime import date\n",
    "import math"
   ]
  },
  {
   "cell_type": "markdown",
   "metadata": {},
   "source": [
    "### About the dataset\n",
    "\n",
    "* Date format: DD/MM/YYYY"
   ]
  },
  {
   "cell_type": "markdown",
   "metadata": {},
   "source": [
    "### Getting the list of raw datasets"
   ]
  },
  {
   "cell_type": "code",
   "execution_count": 13,
   "metadata": {},
   "outputs": [],
   "source": [
    "def get_file():\n",
    "    '''\n",
    "        Returns the path of files in chronological order\n",
    "    '''\n",
    "    \n",
    "    count = len(os.listdir('Raw_Datasets'))\n",
    "    path = 'Raw_Datasets/raw_data'\n",
    "    dataset = [f'{path}{i}.csv' for i in range(1, count+1)]\n",
    "    return dataset"
   ]
  },
  {
   "cell_type": "markdown",
   "metadata": {},
   "source": [
    "### Template for storing processed data"
   ]
  },
  {
   "cell_type": "code",
   "execution_count": 41,
   "metadata": {},
   "outputs": [],
   "source": [
    "def get_empty_df():\n",
    "    '''\n",
    "        Returns empty dataframe with the required columns\n",
    "    '''\n",
    "    \n",
    "    columns = ['Day Id', 'Status Day Id', 'Patient Number','Entry_ID', 'State Patient Number', 'Date Announced',\n",
    "       'Estimated Onset Date', 'Age Bracket', 'Gender', 'Detected City',\n",
    "       'Detected District', 'Detected State', 'State code', 'Current Status',\n",
    "       'Notes', 'Contracted from which Patient (Suspected)', 'Nationality',\n",
    "       'Type of transmission', 'Status Change Date', 'Source_1', 'Source_2',\n",
    "       'Source_3', 'Backup Notes', 'Num Cases']\n",
    "    \n",
    "    return pd.DataFrame(columns=columns)"
   ]
  },
  {
   "cell_type": "markdown",
   "metadata": {},
   "source": [
    "### Number of days from 1st March (Taking the date as the day when first case of covid was reported)"
   ]
  },
  {
   "cell_type": "code",
   "execution_count": 42,
   "metadata": {},
   "outputs": [],
   "source": [
    "def get_date_interval(day):\n",
    "    '''\n",
    "        Returns number of days from 1 March\n",
    "    '''\n",
    "    if pd.isna(day):\n",
    "        return \n",
    "    day = str(day)\n",
    "    DD, MM, YYYY = (map(int, day.split('/'))) if '/' in day else (map(int, day.split('-'))) \n",
    "#     print(DD, MM, YYYY)\n",
    "    inception = date(2020, 3, 1)  # 1st March 2020\n",
    "    current = date(YYYY, MM, DD)\n",
    "    delta = current - inception\n",
    "    return delta.days if delta.days >= 0 else 0"
   ]
  },
  {
   "cell_type": "markdown",
   "metadata": {},
   "source": [
    "### Adding a new column which stores the number of days from 1st March 2020"
   ]
  },
  {
   "cell_type": "code",
   "execution_count": 43,
   "metadata": {},
   "outputs": [],
   "source": [
    "def process_df(file):\n",
    "    df = pd.read_csv(file)\n",
    "    day_id = list(map(get_date_interval, df['Date Announced']))  # Mapping Date Announce column to get the date interval\n",
    "    df.insert(0, 'Day Id', day_id)\n",
    "    status_day_id = list(map(get_date_interval, df['Status Change Date']))  # Mapping Status Change column to get the date interval\n",
    "    df.insert(1, 'Status Day Id', status_day_id)\n",
    "    return df"
   ]
  },
  {
   "cell_type": "markdown",
   "metadata": {},
   "source": [
    "### Appending the dateframe to a single dataframe"
   ]
  },
  {
   "cell_type": "code",
   "execution_count": 48,
   "metadata": {
    "scrolled": false
   },
   "outputs": [],
   "source": [
    "def add_df():\n",
    "    new_data = get_empty_df()\n",
    "    files = get_file()\n",
    "    for file in files:\n",
    "        processed = process_df(file)  # Processing each file to add day_id column\n",
    "        new_data = new_data.append(processed)  # Appending each processed dataframe to a single dataframe\n",
    "        \n",
    "    new_data.reset_index(inplace=True, drop=True)  # Resetting the index column\n",
    "    new_data.index += 1\n",
    "    new_data.insert(0, 'Serial Id', new_data.index)  # Adding a new serial id column which is unique and can be used to join different column\n",
    "    return new_data\n",
    "\n",
    "# combined_df = add_df()"
   ]
  },
  {
   "cell_type": "markdown",
   "metadata": {},
   "source": [
    "### Saving the dataframe to a csv file"
   ]
  },
  {
   "cell_type": "code",
   "execution_count": 49,
   "metadata": {},
   "outputs": [],
   "source": [
    "def save_to_csv(df):\n",
    "    folder_name = 'Output'\n",
    "    df.reset_index(inplace = True, drop=True)\n",
    "    if not os.access(folder_name, os.F_OK):\n",
    "        os.mkdir(folder_name)\n",
    "    out = f'{folder_name}/processed.csv'\n",
    "    df.to_csv(out, index=False)\n",
    "\n",
    "# save_to_csv(combined_df)"
   ]
  },
  {
   "cell_type": "markdown",
   "metadata": {},
   "source": [
    "### Dropping the unnecessary columns"
   ]
  },
  {
   "cell_type": "code",
   "execution_count": 46,
   "metadata": {},
   "outputs": [],
   "source": [
    "def drop_col(df):\n",
    "    col_to_drop = [\n",
    "        'Patient Number', 'Entry_ID', 'State Patient Number', \n",
    "        'Estimated Onset Date', 'Detected City', 'Detected District',\n",
    "        'State code', 'Notes', 'Contracted from which Patient (Suspected)',\n",
    "        'Nationality', 'Type of transmission', 'Source_1', 'Source_2',\n",
    "        'Source_3', 'Backup Notes', 'Num Cases'\n",
    "    ]\n",
    "    \n",
    "    df.drop(col_to_drop, axis=1, inplace=True)\n",
    "    return df\n",
    "\n",
    "# filtered_df = drop_col(combined_df)"
   ]
  },
  {
   "cell_type": "markdown",
   "metadata": {},
   "source": [
    "### Saving the new file"
   ]
  },
  {
   "cell_type": "code",
   "execution_count": 47,
   "metadata": {},
   "outputs": [],
   "source": [
    "def save_to_csv_new(df):\n",
    "    path = 'Output/dataset_filtered.csv'\n",
    "    df.to_csv(path, index=False)\n",
    "    \n",
    "# save_to_csv_new(filtered_df)"
   ]
  },
  {
   "cell_type": "code",
   "execution_count": null,
   "metadata": {},
   "outputs": [],
   "source": []
  }
 ],
 "metadata": {
  "kernelspec": {
   "display_name": "Python 3",
   "language": "python",
   "name": "python3"
  },
  "language_info": {
   "codemirror_mode": {
    "name": "ipython",
    "version": 3
   },
   "file_extension": ".py",
   "mimetype": "text/x-python",
   "name": "python",
   "nbconvert_exporter": "python",
   "pygments_lexer": "ipython3",
   "version": "3.8.2"
  }
 },
 "nbformat": 4,
 "nbformat_minor": 4
}
